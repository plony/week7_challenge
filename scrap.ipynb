{
 "cells": [
  {
   "cell_type": "code",
   "execution_count": 1,
   "metadata": {},
   "outputs": [
    {
     "ename": "ValueError",
     "evalue": "invalid literal for int() with base 10: 'YOUR_API_ID'",
     "output_type": "error",
     "traceback": [
      "\u001b[1;31m---------------------------------------------------------------------------\u001b[0m",
      "\u001b[1;31mValueError\u001b[0m                                Traceback (most recent call last)",
      "Cell \u001b[1;32mIn[1], line 9\u001b[0m\n\u001b[0;32m      6\u001b[0m api_hash \u001b[38;5;241m=\u001b[39m \u001b[38;5;124m'\u001b[39m\u001b[38;5;124mYOUR_API_HASH\u001b[39m\u001b[38;5;124m'\u001b[39m\n\u001b[0;32m      7\u001b[0m phone_number \u001b[38;5;241m=\u001b[39m \u001b[38;5;124m'\u001b[39m\u001b[38;5;124mYOUR_PHONE_NUMBER\u001b[39m\u001b[38;5;124m'\u001b[39m\n\u001b[1;32m----> 9\u001b[0m client \u001b[38;5;241m=\u001b[39m \u001b[43mTelegramClient\u001b[49m\u001b[43m(\u001b[49m\u001b[38;5;124;43m'\u001b[39;49m\u001b[38;5;124;43msession_name\u001b[39;49m\u001b[38;5;124;43m'\u001b[39;49m\u001b[43m,\u001b[49m\u001b[43m \u001b[49m\u001b[43mapi_id\u001b[49m\u001b[43m,\u001b[49m\u001b[43m \u001b[49m\u001b[43mapi_hash\u001b[49m\u001b[43m)\u001b[49m\n\u001b[0;32m     10\u001b[0m client\u001b[38;5;241m.\u001b[39mconnect()\n\u001b[0;32m     12\u001b[0m \u001b[38;5;28;01mif\u001b[39;00m \u001b[38;5;129;01mnot\u001b[39;00m client\u001b[38;5;241m.\u001b[39mis_user_authorized():\n",
      "File \u001b[1;32md:\\Data Science\\10acadamy\\week7_challenge\\.venv\\Lib\\site-packages\\telethon\\client\\telegrambaseclient.py:328\u001b[0m, in \u001b[0;36mTelegramBaseClient.__init__\u001b[1;34m(self, session, api_id, api_hash, connection, use_ipv6, proxy, local_addr, timeout, request_retries, connection_retries, retry_delay, auto_reconnect, sequential_updates, flood_sleep_threshold, raise_last_call_error, device_model, system_version, app_version, lang_code, system_lang_code, loop, base_logger, receive_updates, catch_up, entity_cache_limit)\u001b[0m\n\u001b[0;32m    319\u001b[0m \u001b[38;5;66;03m# TODO Use AsyncClassWrapper(session)\u001b[39;00m\n\u001b[0;32m    320\u001b[0m \u001b[38;5;66;03m# ChatGetter and SenderGetter can use the in-memory _mb_entity_cache\u001b[39;00m\n\u001b[0;32m    321\u001b[0m \u001b[38;5;66;03m# to avoid network access and the need for await in session files.\u001b[39;00m\n\u001b[1;32m   (...)\u001b[0m\n\u001b[0;32m    325\u001b[0m \u001b[38;5;66;03m# TODO Session should probably return all cached\u001b[39;00m\n\u001b[0;32m    326\u001b[0m \u001b[38;5;66;03m#      info of entities, not just the input versions\u001b[39;00m\n\u001b[0;32m    327\u001b[0m \u001b[38;5;28mself\u001b[39m\u001b[38;5;241m.\u001b[39msession \u001b[38;5;241m=\u001b[39m session\n\u001b[1;32m--> 328\u001b[0m \u001b[38;5;28mself\u001b[39m\u001b[38;5;241m.\u001b[39mapi_id \u001b[38;5;241m=\u001b[39m \u001b[38;5;28;43mint\u001b[39;49m\u001b[43m(\u001b[49m\u001b[43mapi_id\u001b[49m\u001b[43m)\u001b[49m\n\u001b[0;32m    329\u001b[0m \u001b[38;5;28mself\u001b[39m\u001b[38;5;241m.\u001b[39mapi_hash \u001b[38;5;241m=\u001b[39m api_hash\n\u001b[0;32m    331\u001b[0m \u001b[38;5;66;03m# Current proxy implementation requires `sock_connect`, and some\u001b[39;00m\n\u001b[0;32m    332\u001b[0m \u001b[38;5;66;03m# event loops lack this method. If the current loop is missing it,\u001b[39;00m\n\u001b[0;32m    333\u001b[0m \u001b[38;5;66;03m# bail out early and suggest an alternative.\u001b[39;00m\n\u001b[1;32m   (...)\u001b[0m\n\u001b[0;32m    336\u001b[0m \u001b[38;5;66;03m#\u001b[39;00m\n\u001b[0;32m    337\u001b[0m \u001b[38;5;66;03m# See https://github.com/LonamiWebs/Telethon/issues/1337 for details.\u001b[39;00m\n",
      "\u001b[1;31mValueError\u001b[0m: invalid literal for int() with base 10: 'YOUR_API_ID'"
     ]
    }
   ],
   "source": [
    "#Step 2: Connect to Telegram using Telethon Create a Telegram application from my.telegram.org to get your API credentials (api_id and api_hash).\n",
    "#\n",
    "from telethon.sync import TelegramClient\n",
    "\n",
    "api_id = 'YOUR_API_ID'\n",
    "api_hash = 'YOUR_API_HASH'\n",
    "phone_number = 'YOUR_PHONE_NUMBER'\n",
    "\n",
    "client = TelegramClient('session_name', api_id, api_hash)\n",
    "client.connect()\n",
    "\n",
    "if not client.is_user_authorized():\n",
    "    client.send_code_request(phone_number)\n",
    "    client.sign_in(phone_number, input('Enter the code: '))\n"
   ]
  },
  {
   "cell_type": "code",
   "execution_count": null,
   "metadata": {},
   "outputs": [],
   "source": [
    "#Step 3: Scrape Messages from Channels Use the following code to extract messages from a specific Telegram channel:\n",
    "import pandas as pd\n",
    "\n",
    "def save_data_to_csv(data, filename):\n",
    "    df = pd.DataFrame(data)\n",
    "    df.to_csv(filename, index=False)\n",
    "\n",
    "# Example data structure:\n",
    "messages_data = [{\"message\": message.text, \"date\": message.date} for message in messages]\n",
    "save_data_to_csv(messages_data, 'telegram_data.csv')\n"
   ]
  },
  {
   "cell_type": "code",
   "execution_count": null,
   "metadata": {},
   "outputs": [],
   "source": [
    "async def scrape_channel_messages(channel_username):\n",
    "    channel = await client.get_entity(channel_username)\n",
    "    async for message in client.iter_messages(channel, limit=100):\n",
    "        print(f\"Message: {message.text}, Date: {message.date}\")\n"
   ]
  }
 ],
 "metadata": {
  "kernelspec": {
   "display_name": ".venv",
   "language": "python",
   "name": "python3"
  },
  "language_info": {
   "codemirror_mode": {
    "name": "ipython",
    "version": 3
   },
   "file_extension": ".py",
   "mimetype": "text/x-python",
   "name": "python",
   "nbconvert_exporter": "python",
   "pygments_lexer": "ipython3",
   "version": "3.11.9"
  }
 },
 "nbformat": 4,
 "nbformat_minor": 2
}
