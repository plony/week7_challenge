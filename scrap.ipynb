{
 "cells": [
  {
   "cell_type": "code",
   "execution_count": 3,
   "metadata": {},
   "outputs": [],
   "source": [
    "import logging\n",
    "from telethon import TelegramClient\n",
    "import csv\n",
    "import os\n",
    "import json\n",
    "from dotenv import load_dotenv"
   ]
  },
  {
   "cell_type": "code",
   "execution_count": 4,
   "metadata": {},
   "outputs": [],
   "source": [
    "# Set up logging\n",
    "logging.basicConfig(\n",
    "    filename='scraping.log',\n",
    "    level=logging.INFO,\n",
    "    format='%(asctime)s - %(levelname)s - %(message)s'\n",
    ")"
   ]
  },
  {
   "cell_type": "code",
   "execution_count": 5,
   "metadata": {},
   "outputs": [],
   "source": [
    "# Load environment variables for Telegram API credentials\n",
    "load_dotenv('.env')\n",
    "api_id = os.getenv('TG_API_ID')\n",
    "api_hash = os.getenv('TG_API_HASH')\n",
    "phone = os.getenv('TG_PHONE_NUMBER')"
   ]
  },
  {
   "cell_type": "code",
   "execution_count": 6,
   "metadata": {},
   "outputs": [],
   "source": [
    "# Function to read channels from a JSON file\n",
    "def load_channels_from_json(file_path):\n",
    "    try:\n",
    "        with open(file_path, 'r') as f:\n",
    "            data = json.load(f)\n",
    "            return data.get('channels', [])\n",
    "    except Exception as e:\n",
    "        logging.error(f\"Error reading channels from JSON: {e}\")\n",
    "        return []"
   ]
  },
  {
   "cell_type": "code",
   "execution_count": 7,
   "metadata": {},
   "outputs": [
    {
     "ename": "RuntimeError",
     "evalue": "asyncio.run() cannot be called from a running event loop",
     "output_type": "error",
     "traceback": [
      "\u001b[1;31m---------------------------------------------------------------------------\u001b[0m",
      "\u001b[1;31mRuntimeError\u001b[0m                              Traceback (most recent call last)",
      "Cell \u001b[1;32mIn[7], line 63\u001b[0m\n\u001b[0;32m     61\u001b[0m \u001b[38;5;28;01mif\u001b[39;00m \u001b[38;5;18m__name__\u001b[39m \u001b[38;5;241m==\u001b[39m \u001b[38;5;124m\"\u001b[39m\u001b[38;5;124m__main__\u001b[39m\u001b[38;5;124m\"\u001b[39m:\n\u001b[0;32m     62\u001b[0m     \u001b[38;5;28;01mimport\u001b[39;00m \u001b[38;5;21;01masyncio\u001b[39;00m\n\u001b[1;32m---> 63\u001b[0m     \u001b[43masyncio\u001b[49m\u001b[38;5;241;43m.\u001b[39;49m\u001b[43mrun\u001b[49m\u001b[43m(\u001b[49m\u001b[43mmain\u001b[49m\u001b[43m(\u001b[49m\u001b[43m)\u001b[49m\u001b[43m)\u001b[49m\n",
      "File \u001b[1;32mC:\\Program Files\\WindowsApps\\PythonSoftwareFoundation.Python.3.11_3.11.2544.0_x64__qbz5n2kfra8p0\\Lib\\asyncio\\runners.py:186\u001b[0m, in \u001b[0;36mrun\u001b[1;34m(main, debug)\u001b[0m\n\u001b[0;32m    161\u001b[0m \u001b[38;5;250m\u001b[39m\u001b[38;5;124;03m\"\"\"Execute the coroutine and return the result.\u001b[39;00m\n\u001b[0;32m    162\u001b[0m \n\u001b[0;32m    163\u001b[0m \u001b[38;5;124;03mThis function runs the passed coroutine, taking care of\u001b[39;00m\n\u001b[1;32m   (...)\u001b[0m\n\u001b[0;32m    182\u001b[0m \u001b[38;5;124;03m    asyncio.run(main())\u001b[39;00m\n\u001b[0;32m    183\u001b[0m \u001b[38;5;124;03m\"\"\"\u001b[39;00m\n\u001b[0;32m    184\u001b[0m \u001b[38;5;28;01mif\u001b[39;00m events\u001b[38;5;241m.\u001b[39m_get_running_loop() \u001b[38;5;129;01mis\u001b[39;00m \u001b[38;5;129;01mnot\u001b[39;00m \u001b[38;5;28;01mNone\u001b[39;00m:\n\u001b[0;32m    185\u001b[0m     \u001b[38;5;66;03m# fail fast with short traceback\u001b[39;00m\n\u001b[1;32m--> 186\u001b[0m     \u001b[38;5;28;01mraise\u001b[39;00m \u001b[38;5;167;01mRuntimeError\u001b[39;00m(\n\u001b[0;32m    187\u001b[0m         \u001b[38;5;124m\"\u001b[39m\u001b[38;5;124masyncio.run() cannot be called from a running event loop\u001b[39m\u001b[38;5;124m\"\u001b[39m)\n\u001b[0;32m    189\u001b[0m \u001b[38;5;28;01mwith\u001b[39;00m Runner(debug\u001b[38;5;241m=\u001b[39mdebug) \u001b[38;5;28;01mas\u001b[39;00m runner:\n\u001b[0;32m    190\u001b[0m     \u001b[38;5;28;01mreturn\u001b[39;00m runner\u001b[38;5;241m.\u001b[39mrun(main)\n",
      "\u001b[1;31mRuntimeError\u001b[0m: asyncio.run() cannot be called from a running event loop"
     ]
    }
   ],
   "source": [
    "# Function to scrape data from a single channel\n",
    "async def scrape_channel(client, channel_username, writer, media_dir, num_messages):\n",
    "    try:\n",
    "        entity = await client.get_entity(channel_username)\n",
    "        channel_title = entity.title\n",
    "        \n",
    "        message_count = 0\n",
    "        async for message in client.iter_messages(entity):\n",
    "            if message_count >= num_messages:\n",
    "                break  # Stop after scraping the specified number of messages\n",
    "            \n",
    "            media_path = None\n",
    "            if message.media:\n",
    "                # Download media if present and save it\n",
    "                filename = f\"{channel_username}_{message.id}.jpg\"  # Change extension based on media type\n",
    "                media_path = os.path.join(media_dir, filename)\n",
    "                await client.download_media(message.media, media_path)\n",
    "                logging.info(f\"Downloaded media for message ID {message.id}.\")\n",
    "            \n",
    "            # Write message details to CSV\n",
    "            writer.writerow([channel_title, channel_username, message.id, message.message, message.date, media_path])\n",
    "            logging.info(f\"Processed message ID {message.id} from {channel_username}.\")\n",
    "            \n",
    "            message_count += 1\n",
    "\n",
    "        if message_count == 0:\n",
    "            logging.info(f\"No messages found for {channel_username}.\")\n",
    "\n",
    "    except Exception as e:\n",
    "        logging.error(f\"Error while scraping {channel_username}: {e}\")\n",
    "\n",
    "# Initialize the client once with a session file\n",
    "client = TelegramClient('scraping_session', api_id, api_hash)\n",
    "\n",
    "# Main function to run the scraper\n",
    "async def main():\n",
    "    try:\n",
    "        await client.start(phone)\n",
    "        logging.info(\"Client started successfully.\")\n",
    "        \n",
    "        media_dir = 'photos'\n",
    "        os.makedirs(media_dir, exist_ok=True)\n",
    "\n",
    "        # Load channels from JSON file\n",
    "        channels = load_channels_from_json('channels.json')\n",
    "        \n",
    "        num_messages_to_scrape = 20  # Define how many messages to scrape from each channel\n",
    "\n",
    "        for channel in channels:\n",
    "            csv_filename = f\"{channel[1:]}_data.csv\"  # Create CSV file for each channel (removing '@' from name)\n",
    "            with open(csv_filename, 'a', newline='', encoding='utf-8') as file:\n",
    "                writer = csv.writer(file)\n",
    "                writer.writerow(['Channel Title', 'Channel Username', 'Message ID', 'Message', 'Date', 'Media Path'])\n",
    "                \n",
    "                await scrape_channel(client, channel, writer, media_dir, num_messages_to_scrape)\n",
    "                logging.info(f\"Scraped data from {channel}.\")\n",
    "\n",
    "    except Exception as e:\n",
    "        logging.error(f\"Error in main function: {e}\")\n",
    "\n",
    "if __name__ == \"__main__\":\n",
    "    import asyncio\n",
    "    asyncio.run(main())"
   ]
  },
  {
   "cell_type": "code",
   "execution_count": null,
   "metadata": {},
   "outputs": [],
   "source": [
    "async def scrape_channel_messages(channel_username):\n",
    "    channel = await client.get_entity(channel_username)\n",
    "    async for message in client.iter_messages(channel, limit=100):\n",
    "        print(f\"Message: {message.text}, Date: {message.date}\")\n"
   ]
  }
 ],
 "metadata": {
  "kernelspec": {
   "display_name": ".venv",
   "language": "python",
   "name": "python3"
  },
  "language_info": {
   "codemirror_mode": {
    "name": "ipython",
    "version": 3
   },
   "file_extension": ".py",
   "mimetype": "text/x-python",
   "name": "python",
   "nbconvert_exporter": "python",
   "pygments_lexer": "ipython3",
   "version": "3.11.9"
  }
 },
 "nbformat": 4,
 "nbformat_minor": 2
}
