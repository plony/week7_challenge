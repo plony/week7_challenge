{
  "cells": [
    {
      "cell_type": "code",
      "execution_count": null,
      "metadata": {
        "colab": {
          "base_uri": "https://localhost:8080/"
        },
        "id": "i9JGUA_F-IUw",
        "outputId": "5304f03e-9e5a-4cfb-8f89-ba8da915fca9"
      },
      "outputs": [],
      "source": [
        "!git clone https://github.com/ultralytics/yolov5.git"
      ]
    },
    {
      "cell_type": "code",
      "execution_count": null,
      "metadata": {
        "id": "wd1FPev--ODt"
      },
      "outputs": [],
      "source": [
        "%cd yolov5/\n",
        "!pip install -r requirements.txt"
      ]
    },
    {
      "cell_type": "code",
      "execution_count": 3,
      "metadata": {
        "colab": {
          "base_uri": "https://localhost:8080/",
          "height": 1000
        },
        "id": "S029infC-mzW",
        "outputId": "36439b7c-8158-41f2-de4e-c852a038bb31"
      },
      "outputs": [
        {
          "name": "stderr",
          "output_type": "stream",
          "text": [
            "Using cache found in C:\\Users\\eep/.cache\\torch\\hub\\ultralytics_yolov5_master\n",
            "YOLOv5  2024-10-19 Python-3.11.9 torch-2.5.0+cpu CPU\n",
            "\n",
            "Fusing layers... \n",
            "YOLOv5s summary: 213 layers, 7225885 parameters, 0 gradients, 16.4 GFLOPs\n",
            "Adding AutoShape... \n"
          ]
        },
        {
          "ename": "ValueError",
          "evalue": "Image folder ../data does not exist!",
          "output_type": "error",
          "traceback": [
            "\u001b[1;31m---------------------------------------------------------------------------\u001b[0m",
            "\u001b[1;31mValueError\u001b[0m                                Traceback (most recent call last)",
            "Cell \u001b[1;32mIn[3], line 13\u001b[0m\n\u001b[0;32m     11\u001b[0m \u001b[38;5;66;03m# Check if the image folder exists\u001b[39;00m\n\u001b[0;32m     12\u001b[0m \u001b[38;5;28;01mif\u001b[39;00m \u001b[38;5;129;01mnot\u001b[39;00m os\u001b[38;5;241m.\u001b[39mpath\u001b[38;5;241m.\u001b[39mexists(image_folder):\n\u001b[1;32m---> 13\u001b[0m     \u001b[38;5;28;01mraise\u001b[39;00m \u001b[38;5;167;01mValueError\u001b[39;00m(\u001b[38;5;124mf\u001b[39m\u001b[38;5;124m\"\u001b[39m\u001b[38;5;124mImage folder \u001b[39m\u001b[38;5;132;01m{\u001b[39;00mimage_folder\u001b[38;5;132;01m}\u001b[39;00m\u001b[38;5;124m does not exist!\u001b[39m\u001b[38;5;124m\"\u001b[39m)\n\u001b[0;32m     15\u001b[0m \u001b[38;5;66;03m# Create directory to save detection results\u001b[39;00m\n\u001b[0;32m     16\u001b[0m os\u001b[38;5;241m.\u001b[39mmakedirs(\u001b[38;5;124m'\u001b[39m\u001b[38;5;124mdetection_results/\u001b[39m\u001b[38;5;124m'\u001b[39m, exist_ok\u001b[38;5;241m=\u001b[39m\u001b[38;5;28;01mTrue\u001b[39;00m)\n",
            "\u001b[1;31mValueError\u001b[0m: Image folder ../data does not exist!"
          ]
        }
      ],
      "source": [
        "import torch\n",
        "import cv2\n",
        "import os\n",
        "\n",
        "# Load pre-trained YOLOv5 model (use YOLOv5s, YOLOv5m, YOLOv5l, or YOLOv5x as needed)\n",
        "model = torch.hub.load('ultralytics/yolov5', 'yolov5s')  # You can switch 'yolov5s' with 'yolov5m', 'yolov5l', or 'yolov5x'\n",
        "\n",
        "# Path to the directory containing the images from the Chemed Telegram Channel\n",
        "image_folder = '../data'\n",
        "\n",
        "# Check if the image folder exists\n",
        "if not os.path.exists(image_folder):\n",
        "    raise ValueError(f\"Image folder {image_folder} does not exist!\")\n",
        "\n",
        "# Create directory to save detection results\n",
        "os.makedirs('detection_results/', exist_ok=True)\n",
        "\n",
        "# Loop through the images in the folder and run object detection\n",
        "for img_name in os.listdir(image_folder):\n",
        "    img_path = os.path.join(image_folder, img_name)\n",
        "\n",
        "    # Read the image using OpenCV\n",
        "    img = cv2.imread(img_path)\n",
        "\n",
        "    if img is None:\n",
        "        print(f\"Could not read image {img_name}\")\n",
        "        continue\n",
        "\n",
        "    # Run object detection\n",
        "    results = model(img)\n",
        "\n",
        "    # Show the results\n",
        "    results.show()  # Show detected objects on the image\n",
        "    results.save(save_dir='detection_results/')  # Save detection results to a directory\n"
      ]
    },
    {
      "cell_type": "code",
      "execution_count": 4,
      "metadata": {
        "colab": {
          "base_uri": "https://localhost:8080/"
        },
        "id": "Vbqhyf9Y_DXn",
        "outputId": "9efdce37-5422-4538-99a9-5bcfcd395eb5"
      },
      "outputs": [
        {
          "ename": "FileNotFoundError",
          "evalue": "[WinError 3] The system cannot find the path specified: '../data'",
          "output_type": "error",
          "traceback": [
            "\u001b[1;31m---------------------------------------------------------------------------\u001b[0m",
            "\u001b[1;31mFileNotFoundError\u001b[0m                         Traceback (most recent call last)",
            "Cell \u001b[1;32mIn[4], line 4\u001b[0m\n\u001b[0;32m      1\u001b[0m \u001b[38;5;28;01mimport\u001b[39;00m \u001b[38;5;21;01mpandas\u001b[39;00m \u001b[38;5;28;01mas\u001b[39;00m \u001b[38;5;21;01mpd\u001b[39;00m\n\u001b[0;32m      3\u001b[0m \u001b[38;5;66;03m# Process results to extract bounding box, class labels, and confidence scores\u001b[39;00m\n\u001b[1;32m----> 4\u001b[0m \u001b[38;5;28;01mfor\u001b[39;00m img_name \u001b[38;5;129;01min\u001b[39;00m \u001b[43mos\u001b[49m\u001b[38;5;241;43m.\u001b[39;49m\u001b[43mlistdir\u001b[49m\u001b[43m(\u001b[49m\u001b[43mimage_folder\u001b[49m\u001b[43m)\u001b[49m:\n\u001b[0;32m      5\u001b[0m     img_path \u001b[38;5;241m=\u001b[39m os\u001b[38;5;241m.\u001b[39mpath\u001b[38;5;241m.\u001b[39mjoin(image_folder, img_name)\n\u001b[0;32m      7\u001b[0m     \u001b[38;5;66;03m# Run object detection\u001b[39;00m\n",
            "\u001b[1;31mFileNotFoundError\u001b[0m: [WinError 3] The system cannot find the path specified: '../data'"
          ]
        }
      ],
      "source": [
        "import pandas as pd\n",
        "\n",
        "# Process results to extract bounding box, class labels, and confidence scores\n",
        "for img_name in os.listdir(image_folder):\n",
        "    img_path = os.path.join(image_folder, img_name)\n",
        "\n",
        "    # Run object detection\n",
        "    results = model(img_path)\n",
        "\n",
        "    # Extract data from results\n",
        "    detections = results.pandas().xyxy[0]  # Pandas dataframe of detection results\n",
        "    print(f\"Detections for {img_name}:\")\n",
        "    print(detections[['name', 'confidence', 'xmin', 'ymin', 'xmax', 'ymax']])\n",
        "\n",
        "    # Save detections to CSV file\n",
        "    detections[['name', 'confidence', 'xmin', 'ymin', 'xmax', 'ymax']].to_csv(f'detection_results/{img_name}_detections.csv', index=False)"
      ]
    }
  ],
  "metadata": {
    "colab": {
      "provenance": []
    },
    "kernelspec": {
      "display_name": ".venv",
      "language": "python",
      "name": "python3"
    },
    "language_info": {
      "codemirror_mode": {
        "name": "ipython",
        "version": 3
      },
      "file_extension": ".py",
      "mimetype": "text/x-python",
      "name": "python",
      "nbconvert_exporter": "python",
      "pygments_lexer": "ipython3",
      "version": "3.11.9"
    }
  },
  "nbformat": 4,
  "nbformat_minor": 0
}
